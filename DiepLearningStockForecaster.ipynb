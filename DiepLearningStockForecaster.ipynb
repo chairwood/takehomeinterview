{
  "nbformat": 4,
  "nbformat_minor": 0,
  "metadata": {
    "colab": {
      "name": "Untitled0.ipynb",
      "provenance": [],
      "authorship_tag": "ABX9TyP0VzAFPGvFNew6XHtqeFWF",
      "include_colab_link": true
    },
    "kernelspec": {
      "name": "python3",
      "display_name": "Python 3"
    }
  },
  "cells": [
    {
      "cell_type": "markdown",
      "metadata": {
        "id": "view-in-github",
        "colab_type": "text"
      },
      "source": [
        "<a href=\"https://colab.research.google.com/github/chairwood/takehomeinterview/blob/master/DiepLearningStockForecaster.ipynb\" target=\"_parent\"><img src=\"https://colab.research.google.com/assets/colab-badge.svg\" alt=\"Open In Colab\"/></a>"
      ]
    },
    {
      "cell_type": "code",
      "metadata": {
        "id": "yjpQIZ9YKpvQ"
      },
      "source": [
        "#Stock forecaster utilizing AI Capstone Project\n",
        "#Long short term memory\n",
        "#Look into support vector regression and linear regression\n",
        "\n",
        "#Potential stocks: TSLA, AAPL, GOOGL, S&P500, SNAP, UBER, AMZN\n",
        "\n",
        "#Tensor, vectors generalized to higher dimensions\n",
        "\n",
        "#Links\n",
        "#https://towardsdatascience.com/how-to-download-all-historic-intraday-ohcl-data-from-iex-with-python-asynchronously-via-api-b5b04a31b187\n",
        "#https://www.tutorialspoint.com/python/python_gui_programming.htm\n",
        "#https://colah.github.io/posts/2015-08-Understanding-LSTMs/\n",
        "#https://matplotlib.org/3.1.0/gallery/style_sheets/fivethirtyeight.html\n",
        "#https://dzone.com/articles/machine-learning-getting-data-into-right-shape\n",
        "#GUI tut\n",
        "# https://www.youtube.com/watch?v=D8-snVfekto"
      ],
      "execution_count": null,
      "outputs": []
    },
    {
      "cell_type": "code",
      "metadata": {
        "id": "KUZf6KePL5NO"
      },
      "source": [
        "#https://www.youtube.com/watch?v=AF8zgxLukg4\n",
        "#https://www.youtube.com/watch?v=m1LNunuI2fk\n",
        "# https://www.youtube.com/watch?v=tPYj3fFJGjk\n",
        "# https://www.youtube.com/watch?v=tIeHLnjs5U8&list=PLZHQObOWTQDNU6R1_67000Dx_ZCJB-3pi&index=5&t=0s\n",
        "# https://www.youtube.com/watch?v=8OpMAlYyH5Y&list=PLea0WJq13cnB_ORdGzEkPlZEN20TSt6Lx&index=10\n",
        "# https://www.youtube.com/watch?v=7n1SpeudvAE"
      ],
      "execution_count": null,
      "outputs": []
    },
    {
      "cell_type": "code",
      "metadata": {
        "id": "kQVDx_-bLL4_"
      },
      "source": [
        "import math\n",
        "import pandas_datareader as web\n",
        "import numpy  as nmp\n",
        "import pandas as pd\n",
        "import tensorflow as tf\n",
        "from tensorflow import keras\n",
        "from sklearn.preprocessing import MinMaxScaler\n",
        "from tensorflow.python.keras.layers import Dense, LSTM, MaxPool1D, AveragePooling1D, Permute\n",
        "from tensorflow.python.keras import Sequential\n",
        "import matplotlib.pyplot as plt\n",
        "\n",
        "import time\n",
        "\n",
        "from sklearn.model_selection import train_test_split\n",
        "from tensorflow.keras.callbacks import EarlyStopping\n",
        "\n",
        "plt.style.use('fivethirtyeight')"
      ],
      "execution_count": null,
      "outputs": []
    },
    {
      "cell_type": "code",
      "metadata": {
        "id": "5UfJUk_iL6nv",
        "outputId": "9bfec915-db87-4ad1-9f97-8a0ba160707e",
        "colab": {
          "base_uri": "https://localhost:8080/",
          "height": 450
        }
      },
      "source": [
        "#Gets stock pricepoints of: MCD\n",
        "#From 2010 to now\n",
        "df = web.DataReader('MCD', data_source='yahoo', start='1999-01-01', end='2019-01-01')\n",
        "\n",
        "#prints the table\n",
        "df"
      ],
      "execution_count": null,
      "outputs": [
        {
          "output_type": "execute_result",
          "data": {
            "text/html": [
              "<div>\n",
              "<style scoped>\n",
              "    .dataframe tbody tr th:only-of-type {\n",
              "        vertical-align: middle;\n",
              "    }\n",
              "\n",
              "    .dataframe tbody tr th {\n",
              "        vertical-align: top;\n",
              "    }\n",
              "\n",
              "    .dataframe thead th {\n",
              "        text-align: right;\n",
              "    }\n",
              "</style>\n",
              "<table border=\"1\" class=\"dataframe\">\n",
              "  <thead>\n",
              "    <tr style=\"text-align: right;\">\n",
              "      <th></th>\n",
              "      <th>High</th>\n",
              "      <th>Low</th>\n",
              "      <th>Open</th>\n",
              "      <th>Close</th>\n",
              "      <th>Volume</th>\n",
              "      <th>Adj Close</th>\n",
              "    </tr>\n",
              "    <tr>\n",
              "      <th>Date</th>\n",
              "      <th></th>\n",
              "      <th></th>\n",
              "      <th></th>\n",
              "      <th></th>\n",
              "      <th></th>\n",
              "      <th></th>\n",
              "    </tr>\n",
              "  </thead>\n",
              "  <tbody>\n",
              "    <tr>\n",
              "      <th>1999-01-04</th>\n",
              "      <td>39.312500</td>\n",
              "      <td>38.218750</td>\n",
              "      <td>38.687500</td>\n",
              "      <td>38.468750</td>\n",
              "      <td>4428000.0</td>\n",
              "      <td>22.730003</td>\n",
              "    </tr>\n",
              "    <tr>\n",
              "      <th>1999-01-05</th>\n",
              "      <td>38.937500</td>\n",
              "      <td>38.125000</td>\n",
              "      <td>38.593750</td>\n",
              "      <td>38.312500</td>\n",
              "      <td>4712800.0</td>\n",
              "      <td>22.637680</td>\n",
              "    </tr>\n",
              "    <tr>\n",
              "      <th>1999-01-06</th>\n",
              "      <td>39.218750</td>\n",
              "      <td>38.593750</td>\n",
              "      <td>38.750000</td>\n",
              "      <td>38.906250</td>\n",
              "      <td>7639400.0</td>\n",
              "      <td>22.988506</td>\n",
              "    </tr>\n",
              "    <tr>\n",
              "      <th>1999-01-07</th>\n",
              "      <td>39.312500</td>\n",
              "      <td>38.375000</td>\n",
              "      <td>38.437500</td>\n",
              "      <td>38.937500</td>\n",
              "      <td>4137000.0</td>\n",
              "      <td>23.006969</td>\n",
              "    </tr>\n",
              "    <tr>\n",
              "      <th>1999-01-08</th>\n",
              "      <td>40.375000</td>\n",
              "      <td>38.750000</td>\n",
              "      <td>38.812500</td>\n",
              "      <td>40.250000</td>\n",
              "      <td>4398800.0</td>\n",
              "      <td>23.782492</td>\n",
              "    </tr>\n",
              "    <tr>\n",
              "      <th>...</th>\n",
              "      <td>...</td>\n",
              "      <td>...</td>\n",
              "      <td>...</td>\n",
              "      <td>...</td>\n",
              "      <td>...</td>\n",
              "      <td>...</td>\n",
              "    </tr>\n",
              "    <tr>\n",
              "      <th>2018-12-24</th>\n",
              "      <td>175.270004</td>\n",
              "      <td>170.169998</td>\n",
              "      <td>174.240005</td>\n",
              "      <td>170.279999</td>\n",
              "      <td>2400900.0</td>\n",
              "      <td>163.184235</td>\n",
              "    </tr>\n",
              "    <tr>\n",
              "      <th>2018-12-26</th>\n",
              "      <td>174.039993</td>\n",
              "      <td>169.039993</td>\n",
              "      <td>170.089996</td>\n",
              "      <td>174.029999</td>\n",
              "      <td>4065500.0</td>\n",
              "      <td>166.777969</td>\n",
              "    </tr>\n",
              "    <tr>\n",
              "      <th>2018-12-27</th>\n",
              "      <td>175.710007</td>\n",
              "      <td>170.729996</td>\n",
              "      <td>173.289993</td>\n",
              "      <td>175.710007</td>\n",
              "      <td>3934500.0</td>\n",
              "      <td>168.387970</td>\n",
              "    </tr>\n",
              "    <tr>\n",
              "      <th>2018-12-28</th>\n",
              "      <td>177.500000</td>\n",
              "      <td>174.850006</td>\n",
              "      <td>176.300003</td>\n",
              "      <td>175.559998</td>\n",
              "      <td>2896800.0</td>\n",
              "      <td>168.244186</td>\n",
              "    </tr>\n",
              "    <tr>\n",
              "      <th>2018-12-31</th>\n",
              "      <td>177.800003</td>\n",
              "      <td>175.600006</td>\n",
              "      <td>175.960007</td>\n",
              "      <td>177.570007</td>\n",
              "      <td>2482600.0</td>\n",
              "      <td>170.170425</td>\n",
              "    </tr>\n",
              "  </tbody>\n",
              "</table>\n",
              "<p>5031 rows × 6 columns</p>\n",
              "</div>"
            ],
            "text/plain": [
              "                  High         Low  ...     Volume   Adj Close\n",
              "Date                                ...                       \n",
              "1999-01-04   39.312500   38.218750  ...  4428000.0   22.730003\n",
              "1999-01-05   38.937500   38.125000  ...  4712800.0   22.637680\n",
              "1999-01-06   39.218750   38.593750  ...  7639400.0   22.988506\n",
              "1999-01-07   39.312500   38.375000  ...  4137000.0   23.006969\n",
              "1999-01-08   40.375000   38.750000  ...  4398800.0   23.782492\n",
              "...                ...         ...  ...        ...         ...\n",
              "2018-12-24  175.270004  170.169998  ...  2400900.0  163.184235\n",
              "2018-12-26  174.039993  169.039993  ...  4065500.0  166.777969\n",
              "2018-12-27  175.710007  170.729996  ...  3934500.0  168.387970\n",
              "2018-12-28  177.500000  174.850006  ...  2896800.0  168.244186\n",
              "2018-12-31  177.800003  175.600006  ...  2482600.0  170.170425\n",
              "\n",
              "[5031 rows x 6 columns]"
            ]
          },
          "metadata": {
            "tags": []
          },
          "execution_count": 4
        }
      ]
    },
    {
      "cell_type": "code",
      "metadata": {
        "id": "v5mUBIo-VD51",
        "outputId": "9b5ad7d6-0259-47dd-bf6a-2553036048d5",
        "colab": {
          "base_uri": "https://localhost:8080/",
          "height": 34
        }
      },
      "source": [
        "#Gets the num of rows/columns\n",
        "df.shape"
      ],
      "execution_count": null,
      "outputs": [
        {
          "output_type": "execute_result",
          "data": {
            "text/plain": [
              "(5031, 6)"
            ]
          },
          "metadata": {
            "tags": []
          },
          "execution_count": 5
        }
      ]
    },
    {
      "cell_type": "code",
      "metadata": {
        "id": "UuAXktNT4iBd",
        "outputId": "89c2e832-1315-46e7-808a-955ae7d95078",
        "colab": {
          "base_uri": "https://localhost:8080/",
          "height": 34
        }
      },
      "source": [
        "#Sort only the closing prices\n",
        "data = df.filter(['Close'])\n",
        "#Converts the set into an array for numpy\n",
        "dataset = data.values\n",
        "#Gets the number of rows to train with\n",
        "#Note: maybe changing the percentage will affect the accuracy ??\n",
        "training_data_length = math.ceil(len(dataset) * .8)\n",
        "#Prints the number of rows to give to the agent\n",
        "training_data_length"
      ],
      "execution_count": null,
      "outputs": [
        {
          "output_type": "execute_result",
          "data": {
            "text/plain": [
              "4025"
            ]
          },
          "metadata": {
            "tags": []
          },
          "execution_count": 6
        }
      ]
    },
    {
      "cell_type": "code",
      "metadata": {
        "id": "6o8m8CzF5YK9",
        "outputId": "e356ccd9-18ad-463b-bccd-527f4e2469a5",
        "colab": {
          "base_uri": "https://localhost:8080/",
          "height": 136
        }
      },
      "source": [
        "#Scaling data as the 10 year low to be min and the 10 year high to be the max\n",
        "scaler = MinMaxScaler(feature_range=(0,1))\n",
        "#Data will be from 0 inclusive to 1 inclusive\n",
        "scaled_data = scaler.fit_transform(dataset)\n",
        "#Prints the scaled data\n",
        "scaled_data"
      ],
      "execution_count": null,
      "outputs": [
        {
          "output_type": "execute_result",
          "data": {
            "text/plain": [
              "array([[0.14749407],\n",
              "       [0.1466107 ],\n",
              "       [0.1499675 ],\n",
              "       ...,\n",
              "       [0.92339446],\n",
              "       [0.92254637],\n",
              "       [0.93391007]])"
            ]
          },
          "metadata": {
            "tags": []
          },
          "execution_count": 7
        }
      ]
    },
    {
      "cell_type": "code",
      "metadata": {
        "id": "01mgPyRK6UpU",
        "outputId": "906758a6-abce-4bd1-d9fa-3eae4bca6b66",
        "colab": {
          "base_uri": "https://localhost:8080/",
          "height": 1000
        }
      },
      "source": [
        "#Create the training data set\n",
        "#Create the scaled training dataset\n",
        "\n",
        "#Collect all the values scaled data\n",
        "train_data = scaled_data[0:training_data_length, :]\n",
        "#Split the data in x_train and y_train data sets\n",
        "x_train = []\n",
        "y_train = []\n",
        "\n",
        "\n",
        "#try to decrease this window\n",
        "for i in range(60, len(train_data)):\n",
        "  #Appends the 60 values before i, excluding i, for x_train\n",
        "  x_train.append(train_data[i-60:i])\n",
        "  #Appends the ith value\n",
        "  y_train.append(train_data[i,0])\n",
        "  \n",
        "  if i<= 60:\n",
        "    print(x_train) \n",
        "    print(y_train)\n",
        "    print()\n",
        "  "
      ],
      "execution_count": null,
      "outputs": [
        {
          "output_type": "stream",
          "text": [
            "[array([[0.14749407],\n",
            "       [0.1466107 ],\n",
            "       [0.1499675 ],\n",
            "       [0.15014417],\n",
            "       [0.15756445],\n",
            "       [0.15014417],\n",
            "       [0.14290056],\n",
            "       [0.14767074],\n",
            "       [0.14502064],\n",
            "       [0.14908413],\n",
            "       [0.15385431],\n",
            "       [0.14979082],\n",
            "       [0.14678737],\n",
            "       [0.14484397],\n",
            "       [0.14449062],\n",
            "       [0.15314762],\n",
            "       [0.1519109 ],\n",
            "       [0.15085086],\n",
            "       [0.15279427],\n",
            "       [0.15438433],\n",
            "       [0.15350097],\n",
            "       [0.16003788],\n",
            "       [0.15827115],\n",
            "       [0.15703443],\n",
            "       [0.1586245 ],\n",
            "       [0.15685776],\n",
            "       [0.15579772],\n",
            "       [0.16180462],\n",
            "       [0.15986121],\n",
            "       [0.1612746 ],\n",
            "       [0.15756445],\n",
            "       [0.16445472],\n",
            "       [0.171875  ],\n",
            "       [0.17205168],\n",
            "       [0.17222835],\n",
            "       [0.17028494],\n",
            "       [0.16763484],\n",
            "       [0.17028494],\n",
            "       [0.17470178],\n",
            "       [0.18406547],\n",
            "       [0.1812387 ],\n",
            "       [0.18477217],\n",
            "       [0.19660929],\n",
            "       [0.18583221],\n",
            "       [0.17593849],\n",
            "       [0.17735188],\n",
            "       [0.18265209],\n",
            "       [0.17593849],\n",
            "       [0.17982531],\n",
            "       [0.17841192],\n",
            "       [0.17629184],\n",
            "       [0.17735188],\n",
            "       [0.17664519],\n",
            "       [0.17099164],\n",
            "       [0.16957825],\n",
            "       [0.17311172],\n",
            "       [0.17982531],\n",
            "       [0.18088535],\n",
            "       [0.1872456 ],\n",
            "       [0.18441882]])]\n",
            "[0.1861855547807221]\n",
            "\n"
          ],
          "name": "stdout"
        }
      ]
    },
    {
      "cell_type": "code",
      "metadata": {
        "id": "ebx8wKNu8UIj"
      },
      "source": [
        "#Convert the sets into arrays\n",
        "x_train, y_train = nmp.array(x_train), nmp.array(y_train)\n",
        "\n"
      ],
      "execution_count": null,
      "outputs": []
    },
    {
      "cell_type": "code",
      "metadata": {
        "id": "G1fVRJXP8hRL",
        "outputId": "40d6966d-67c8-4955-b7f9-6ba71412c533",
        "colab": {
          "base_uri": "https://localhost:8080/",
          "height": 34
        }
      },
      "source": [
        "#Displays the shape, important, we need to have 3 elements\n",
        "x_train.shape\n"
      ],
      "execution_count": null,
      "outputs": [
        {
          "output_type": "execute_result",
          "data": {
            "text/plain": [
              "(3965, 60, 1)"
            ]
          },
          "metadata": {
            "tags": []
          },
          "execution_count": 10
        }
      ]
    },
    {
      "cell_type": "code",
      "metadata": {
        "id": "ghznxnyiHxnO"
      },
      "source": [
        "#NEW one\n",
        "#Convert the sets into arrays\n",
        "x_train2, y_train2 = nmp.array(x_train), nmp.array(y_train)\n"
      ],
      "execution_count": null,
      "outputs": []
    },
    {
      "cell_type": "code",
      "metadata": {
        "id": "S25O-stdAR9P"
      },
      "source": [
        "#NEW one\n",
        "#Splitting into validation and training sets\n",
        "x_train, x_test, y_train, y_test = train_test_split(    \n",
        "    x_train2, y_train2, test_size=0.20, random_state=42)"
      ],
      "execution_count": null,
      "outputs": []
    },
    {
      "cell_type": "code",
      "metadata": {
        "id": "R0E11FKI2IP5"
      },
      "source": [
        "#Neural Network\n",
        "#Build 4 layers, with 50, 50, 25, 1 and neural network for the LSTM model\n",
        "#Keras squential\n",
        "#RMSprop\n",
        "#SGD\n",
        "#Adam, play with the learning rate\n",
        "#Sequence processing, useful time series\n",
        "#learn about neural network, before layers\n",
        "#reccurent layers LSTM, RNN, SImpleRNNCell, LSTMcells\n",
        "#Keep dense layer with the 1 node (DO NOT TOUCH)\n",
        "#Can replace the dense(25) with MaxPOOLing1D, AveragePooling1D\n",
        "#possibly reduce to 1 LSTM and add more dense layer\n",
        "#Look into changing the # of node from 50 to 20, play with this\n",
        "#LSTM activation: https://keras.io/activations/\n",
        "#Random forest method, XGboost, HMM (hidden markov model), hmm.learn\n",
        "\n",
        "\n",
        "#Neural networks - multistaged information extraction process\n",
        "#Our data gets transformed after each layer\n",
        "#Supervised model - continually adjusting model to become more\n",
        "model = Sequential()\n",
        "model.add(LSTM(50, return_sequences= True, input_shape=(x_train.shape[1],1)))   #input layer, disregards bias for this layer, but sets bias for next layer\n",
        "model.add(LSTM(50, return_sequences=False))\n",
        "# keras.layers.MaxPooling1D(pool_size=2, strides=None, padding='valid', data_format='channels_last')\n",
        "# model.add(Permute((2, 1)))\n",
        "# model.add(MaxPooling1D(pool_size=2, strides=None))\n",
        "model.add(Dense(25))\n",
        "model.add(Dense(1))\n",
        "\n",
        "#save the network .h5\n",
        "#use GUI to call .h5"
      ],
      "execution_count": null,
      "outputs": []
    },
    {
      "cell_type": "code",
      "metadata": {
        "id": "jzDwi3u18J9y",
        "outputId": "443582db-501f-4b3b-c642-b46241a446e7",
        "colab": {
          "base_uri": "https://localhost:8080/",
          "height": 286
        }
      },
      "source": [
        "model.summary()"
      ],
      "execution_count": 40,
      "outputs": [
        {
          "output_type": "stream",
          "text": [
            "Model: \"sequential\"\n",
            "_________________________________________________________________\n",
            "Layer (type)                 Output Shape              Param #   \n",
            "=================================================================\n",
            "lstm (LSTM)                  (None, 60, 50)            10400     \n",
            "_________________________________________________________________\n",
            "lstm_1 (LSTM)                (None, 50)                20200     \n",
            "_________________________________________________________________\n",
            "dense (Dense)                (None, 25)                1275      \n",
            "_________________________________________________________________\n",
            "dense_1 (Dense)              (None, 1)                 26        \n",
            "=================================================================\n",
            "Total params: 31,901\n",
            "Trainable params: 31,901\n",
            "Non-trainable params: 0\n",
            "_________________________________________________________________\n"
          ],
          "name": "stdout"
        }
      ]
    },
    {
      "cell_type": "code",
      "metadata": {
        "id": "ua6LbilnLLMk"
      },
      "source": [
        "#Compile model\n",
        "#https://towardsdatascience.com/adam-latest-trends-in-deep-learning-optimization-6be9a291375c\n",
        "#Adam is really fast\n",
        "#play with the loss function, mae, \n",
        "#add learning rate\n",
        "#import optimizer with different learning rate, keras.adam\n",
        "model.compile(optimizer='adam', loss='mean_squared_error', metrics=['mse'])   #mae"
      ],
      "execution_count": null,
      "outputs": []
    },
    {
      "cell_type": "code",
      "metadata": {
        "id": "9q-l7jVXLoYq",
        "outputId": "ced30705-da38-4674-e19a-c4f087564f12",
        "colab": {
          "base_uri": "https://localhost:8080/",
          "height": 544
        }
      },
      "source": [
        "#Fit/Train the model to the training data\n",
        "#For sure increase bath_size and epoch\n",
        "#epoch - # of times sees the entire data\n",
        "#batch - # of samples shown (Try 10) increase to the point where I don't get GPU/memory err\n",
        "#model.fit\n",
        "#model is saved as a .h5 file\n",
        "#Save the best fit as each epoch, Keras will save the best fit\n",
        "#Split data into validation and training\n",
        "\n",
        "\n",
        "\n",
        "# model.fit(x_train, y_train, batch_size=10, epochs=3)  #test 20, modify the model.fit to account for the 80%training/20%validation\n",
        "monitor = EarlyStopping(monitor='mse', min_delta=1e-6, patience=5, verbose=1, mode='min', restore_best_weights=True)\n",
        "model.fit(x_train,y_train,validation_data=(x_test,y_test),callbacks=[monitor],verbose=2,epochs=1000)\n",
        "\n",
        "#add validation on model.fit\n",
        "#use first 80% for training and last 20% for validation   #maybe have a \"holdout set\"?\n",
        "#track mse and for the validation\n",
        "#how to save .h5 file in keras/how to load\n",
        "#email vakilian"
      ],
      "execution_count": null,
      "outputs": [
        {
          "output_type": "stream",
          "text": [
            "Epoch 1/1000\n",
            "100/100 - 11s - loss: 0.0030 - mse: 0.0030 - val_loss: 8.1776e-05 - val_mse: 8.1776e-05\n",
            "Epoch 2/1000\n",
            "100/100 - 11s - loss: 6.9400e-05 - mse: 6.9400e-05 - val_loss: 9.0304e-05 - val_mse: 9.0304e-05\n",
            "Epoch 3/1000\n",
            "100/100 - 11s - loss: 7.0265e-05 - mse: 7.0265e-05 - val_loss: 6.4202e-05 - val_mse: 6.4202e-05\n",
            "Epoch 4/1000\n",
            "100/100 - 11s - loss: 6.4252e-05 - mse: 6.4252e-05 - val_loss: 6.7590e-05 - val_mse: 6.7590e-05\n",
            "Epoch 5/1000\n",
            "100/100 - 11s - loss: 6.3334e-05 - mse: 6.3334e-05 - val_loss: 6.3036e-05 - val_mse: 6.3036e-05\n",
            "Epoch 6/1000\n",
            "100/100 - 11s - loss: 5.9998e-05 - mse: 5.9998e-05 - val_loss: 7.4783e-05 - val_mse: 7.4783e-05\n",
            "Epoch 7/1000\n",
            "100/100 - 11s - loss: 6.8560e-05 - mse: 6.8560e-05 - val_loss: 5.9606e-05 - val_mse: 5.9606e-05\n",
            "Epoch 8/1000\n",
            "100/100 - 11s - loss: 5.9222e-05 - mse: 5.9222e-05 - val_loss: 6.7473e-05 - val_mse: 6.7473e-05\n",
            "Epoch 9/1000\n",
            "100/100 - 11s - loss: 5.8050e-05 - mse: 5.8050e-05 - val_loss: 5.7976e-05 - val_mse: 5.7976e-05\n",
            "Epoch 10/1000\n",
            "100/100 - 11s - loss: 5.7699e-05 - mse: 5.7699e-05 - val_loss: 8.8831e-05 - val_mse: 8.8831e-05\n",
            "Epoch 11/1000\n",
            "100/100 - 11s - loss: 6.0292e-05 - mse: 6.0292e-05 - val_loss: 5.5617e-05 - val_mse: 5.5617e-05\n",
            "Epoch 12/1000\n",
            "100/100 - 11s - loss: 6.4490e-05 - mse: 6.4490e-05 - val_loss: 5.2763e-05 - val_mse: 5.2763e-05\n",
            "Epoch 13/1000\n",
            "100/100 - 11s - loss: 5.8817e-05 - mse: 5.8817e-05 - val_loss: 5.4439e-05 - val_mse: 5.4439e-05\n",
            "Epoch 14/1000\n",
            "Restoring model weights from the end of the best epoch.\n",
            "100/100 - 11s - loss: 6.5377e-05 - mse: 6.5377e-05 - val_loss: 4.9429e-05 - val_mse: 4.9429e-05\n",
            "Epoch 00014: early stopping\n"
          ],
          "name": "stdout"
        },
        {
          "output_type": "execute_result",
          "data": {
            "text/plain": [
              "<tensorflow.python.keras.callbacks.History at 0x7f1cb51e51d0>"
            ]
          },
          "metadata": {
            "tags": []
          },
          "execution_count": 15
        }
      ]
    },
    {
      "cell_type": "code",
      "metadata": {
        "id": "B2X7OeSdA2Ol",
        "outputId": "75e5ab5e-1238-4181-cf98-2220d2dc5de4",
        "colab": {
          "base_uri": "https://localhost:8080/",
          "height": 34
        }
      },
      "source": [
        "from google.colab import drive\n",
        "drive.mount('/content/gdrive')"
      ],
      "execution_count": null,
      "outputs": [
        {
          "output_type": "stream",
          "text": [
            "Mounted at /content/gdrive\n"
          ],
          "name": "stdout"
        }
      ]
    },
    {
      "cell_type": "code",
      "metadata": {
        "id": "cjcJ39kBB2mK",
        "outputId": "9bcd5152-a7fe-4002-b0d7-98a1da8886eb",
        "colab": {
          "base_uri": "https://localhost:8080/",
          "height": 34
        }
      },
      "source": [
        "t = time.time()\n",
        "\n",
        "export_path_keras = \"./{}.h5\".format(int(t))\n",
        "print(export_path_keras)\n",
        "\n",
        "model.save(export_path_keras)\n",
        "\n",
        "# model.save('saved_model/my_model') "
      ],
      "execution_count": 42,
      "outputs": [
        {
          "output_type": "stream",
          "text": [
            "./1601669579.h5\n"
          ],
          "name": "stdout"
        }
      ]
    },
    {
      "cell_type": "code",
      "metadata": {
        "id": "mW2GdsEgMHy1"
      },
      "source": [
        "##Creating the testing dataset\n",
        "#Creates a new array containing scaled values from 1911, the number in the above cell, and 2463, the number of original rows\n",
        "test_data = scaled_data[training_data_length - 60: , :]\n",
        "#Create the data sets x_test and y_test\n",
        "x_test = []\n",
        "y_test = dataset[training_data_length: , :]\n",
        "for i in range(60, len(test_data)):\n",
        "  x_test.append(test_data[i-60:i, 0])\n"
      ],
      "execution_count": null,
      "outputs": []
    },
    {
      "cell_type": "code",
      "metadata": {
        "id": "4asuRQZqNN7L"
      },
      "source": [
        "#Convert the sets into arrays\n",
        "x_test = nmp.array(x_test)"
      ],
      "execution_count": null,
      "outputs": []
    },
    {
      "cell_type": "code",
      "metadata": {
        "id": "BieilfMANWa-",
        "outputId": "83e87e0a-1a62-4ab4-f4d7-f53ed1a8fa75",
        "colab": {
          "base_uri": "https://localhost:8080/",
          "height": 34
        }
      },
      "source": [
        "#Reshape the data\n",
        "x_test = nmp.reshape(x_test, (x_test.shape[0], x_test.shape[1], 1))\n",
        "#shape[0] = # of samples, shape[1] = # of timesteps, 1 feature of close price\n",
        "#Displays the shape, important, we need to have 3 elements\n",
        "x_test.shape"
      ],
      "execution_count": null,
      "outputs": [
        {
          "output_type": "execute_result",
          "data": {
            "text/plain": [
              "(1006, 60, 1)"
            ]
          },
          "metadata": {
            "tags": []
          },
          "execution_count": 20
        }
      ]
    },
    {
      "cell_type": "code",
      "metadata": {
        "id": "fDxxyz-PNzXI",
        "outputId": "242b70cd-8872-4b43-d3c9-17137462646f",
        "colab": {
          "base_uri": "https://localhost:8080/",
          "height": 136
        }
      },
      "source": [
        "#Get the models predicted price values\n",
        "predictions = model.predict(x_test)\n",
        "#Kind of unscaling the dataset from earlier? Maybe try to leave the data unscaled?\n",
        "predictions = scaler.inverse_transform(predictions)\n",
        "print(y_test)\n",
        "\n",
        "#Ideally, the predictions are similar to the y_test values"
      ],
      "execution_count": null,
      "outputs": [
        {
          "output_type": "stream",
          "text": [
            "[[ 93.26000214]\n",
            " [ 92.23000336]\n",
            " [ 92.40000153]\n",
            " ...\n",
            " [175.71000671]\n",
            " [175.55999756]\n",
            " [177.57000732]]\n"
          ],
          "name": "stdout"
        }
      ]
    },
    {
      "cell_type": "code",
      "metadata": {
        "id": "BJhdUug0OZG4",
        "outputId": "ad65cfc5-ae62-4575-da8d-eab8c60fbdce",
        "colab": {
          "base_uri": "https://localhost:8080/",
          "height": 34
        }
      },
      "source": [
        "#Loss/Cost Function - Gradient Descent\n",
        "#Get the root mean squared error (RMSE)\n",
        "#Mean aboslute error\n",
        "#Hinge Loss\n",
        "# rmse = nmp.sqrt(nmp.mean(predictions - y_test)**2)\n",
        "# rmse\n",
        "\n",
        "\n",
        "rmse = nmp.sqrt(nmp.mean((predictions - y_test)**2))\n",
        "rmse\n",
        "\n",
        "#The lower the number the better"
      ],
      "execution_count": null,
      "outputs": [
        {
          "output_type": "execute_result",
          "data": {
            "text/plain": [
              "3.0390849824640176"
            ]
          },
          "metadata": {
            "tags": []
          },
          "execution_count": 22
        }
      ]
    },
    {
      "cell_type": "code",
      "metadata": {
        "id": "G7bteR3cXUpY",
        "outputId": "f336078f-87ef-41e5-cc32-16f639aceeaf",
        "colab": {
          "base_uri": "https://localhost:8080/",
          "height": 660
        }
      },
      "source": [
        "#plot the data\n",
        "train = data[:training_data_length]\n",
        "valid = data[training_data_length:]\n",
        "valid['Predictions'] = predictions\n",
        "\n",
        "#Show the closing price history\n",
        "#The Train being the data given, Val being actual value to compare with Predictions made by the AI\n",
        "plt.figure(figsize=(16,8))\n",
        "plt.title('Close Price History')\n",
        "plt.plot(df['Close'])   #Actual closing prices\n",
        "plt.xlabel('Data', fontsize=18)\n",
        "plt.ylabel('Close Price USD($)', fontsize=18)\n",
        "plt.plot(train['Close'])  \n",
        "plt.plot(valid[['Close', 'Predictions']])\n",
        "plt.legend(['Train', 'Val', 'Predictions'], loc='lower right')\n",
        "plt.show()"
      ],
      "execution_count": null,
      "outputs": [
        {
          "output_type": "stream",
          "text": [
            "/usr/local/lib/python3.6/dist-packages/ipykernel_launcher.py:4: SettingWithCopyWarning: \n",
            "A value is trying to be set on a copy of a slice from a DataFrame.\n",
            "Try using .loc[row_indexer,col_indexer] = value instead\n",
            "\n",
            "See the caveats in the documentation: https://pandas.pydata.org/pandas-docs/stable/user_guide/indexing.html#returning-a-view-versus-a-copy\n",
            "  after removing the cwd from sys.path.\n"
          ],
          "name": "stderr"
        },
        {
          "output_type": "display_data",
          "data": {
            "image/png": "[encoded data removed]",
            "text/plain": [
              "<Figure size 1152x576 with 1 Axes>"
            ]
          },
          "metadata": {
            "tags": []
          }
        }
      ]
    },
    {
      "cell_type": "code",
      "metadata": {
        "id": "QcTeAF9scs27",
        "outputId": "0cbfb223-d986-4cf0-fff2-4bcfaf574ba1",
        "colab": {
          "base_uri": "https://localhost:8080/",
          "height": 450
        }
      },
      "source": [
        "#Show the actual price compared predicted prices\n",
        "valid"
      ],
      "execution_count": null,
      "outputs": [
        {
          "output_type": "execute_result",
          "data": {
            "text/html": [
              "<div>\n",
              "<style scoped>\n",
              "    .dataframe tbody tr th:only-of-type {\n",
              "        vertical-align: middle;\n",
              "    }\n",
              "\n",
              "    .dataframe tbody tr th {\n",
              "        vertical-align: top;\n",
              "    }\n",
              "\n",
              "    .dataframe thead th {\n",
              "        text-align: right;\n",
              "    }\n",
              "</style>\n",
              "<table border=\"1\" class=\"dataframe\">\n",
              "  <thead>\n",
              "    <tr style=\"text-align: right;\">\n",
              "      <th></th>\n",
              "      <th>Close</th>\n",
              "      <th>Predictions</th>\n",
              "    </tr>\n",
              "    <tr>\n",
              "      <th>Date</th>\n",
              "      <th></th>\n",
              "      <th></th>\n",
              "    </tr>\n",
              "  </thead>\n",
              "  <tbody>\n",
              "    <tr>\n",
              "      <th>2015-01-02</th>\n",
              "      <td>93.260002</td>\n",
              "      <td>94.241791</td>\n",
              "    </tr>\n",
              "    <tr>\n",
              "      <th>2015-01-05</th>\n",
              "      <td>92.230003</td>\n",
              "      <td>94.338318</td>\n",
              "    </tr>\n",
              "    <tr>\n",
              "      <th>2015-01-06</th>\n",
              "      <td>92.400002</td>\n",
              "      <td>94.293686</td>\n",
              "    </tr>\n",
              "    <tr>\n",
              "      <th>2015-01-07</th>\n",
              "      <td>94.010002</td>\n",
              "      <td>94.180038</td>\n",
              "    </tr>\n",
              "    <tr>\n",
              "      <th>2015-01-08</th>\n",
              "      <td>94.360001</td>\n",
              "      <td>94.144890</td>\n",
              "    </tr>\n",
              "    <tr>\n",
              "      <th>...</th>\n",
              "      <td>...</td>\n",
              "      <td>...</td>\n",
              "    </tr>\n",
              "    <tr>\n",
              "      <th>2018-12-24</th>\n",
              "      <td>170.279999</td>\n",
              "      <td>177.280472</td>\n",
              "    </tr>\n",
              "    <tr>\n",
              "      <th>2018-12-26</th>\n",
              "      <td>174.029999</td>\n",
              "      <td>175.943726</td>\n",
              "    </tr>\n",
              "    <tr>\n",
              "      <th>2018-12-27</th>\n",
              "      <td>175.710007</td>\n",
              "      <td>174.820572</td>\n",
              "    </tr>\n",
              "    <tr>\n",
              "      <th>2018-12-28</th>\n",
              "      <td>175.559998</td>\n",
              "      <td>174.012222</td>\n",
              "    </tr>\n",
              "    <tr>\n",
              "      <th>2018-12-31</th>\n",
              "      <td>177.570007</td>\n",
              "      <td>173.437561</td>\n",
              "    </tr>\n",
              "  </tbody>\n",
              "</table>\n",
              "<p>1006 rows × 2 columns</p>\n",
              "</div>"
            ],
            "text/plain": [
              "                 Close  Predictions\n",
              "Date                               \n",
              "2015-01-02   93.260002    94.241791\n",
              "2015-01-05   92.230003    94.338318\n",
              "2015-01-06   92.400002    94.293686\n",
              "2015-01-07   94.010002    94.180038\n",
              "2015-01-08   94.360001    94.144890\n",
              "...                ...          ...\n",
              "2018-12-24  170.279999   177.280472\n",
              "2018-12-26  174.029999   175.943726\n",
              "2018-12-27  175.710007   174.820572\n",
              "2018-12-28  175.559998   174.012222\n",
              "2018-12-31  177.570007   173.437561\n",
              "\n",
              "[1006 rows x 2 columns]"
            ]
          },
          "metadata": {
            "tags": []
          },
          "execution_count": 24
        }
      ]
    },
    {
      "cell_type": "code",
      "metadata": {
        "id": "iK7u5vUSdDyZ",
        "outputId": "61544290-5e55-4f70-d3e5-c9089b55727d",
        "colab": {
          "base_uri": "https://localhost:8080/",
          "height": 34
        }
      },
      "source": [
        "#Forcasting the next day's price using just the last 60 days\n",
        "tesla_quote = web.DataReader('TSLA', data_source='yahoo', start='2009-01-02', end='2019-01-02')\n",
        "#create new dataframe\n",
        "new_df = tesla_quote.filter(['Close'])\n",
        "#get the last 60 dayt closing price values and covnert the dataframe to an array\n",
        "last_60_days = new_df[-60:].values\n",
        "#Scale the data to be values between 0 and 1\n",
        "last_60_days_scaled = scaler.transform(last_60_days)\n",
        "X_test = []\n",
        "X_test.append(last_60_days_scaled)\n",
        "#Convert the set to an array\n",
        "X_test = nmp.array(X_test)\n",
        "#Reshape the data\n",
        "#Needs to be 3 elements\n",
        "X_test = nmp.reshape(X_test, (X_test.shape[0], X_test.shape[1], 1))\n",
        "#Get the predicted scaled price\n",
        "pred_price = model.predict(X_test)\n",
        "#undo the scaling\n",
        "pred_price = scaler.inverse_transform(pred_price)\n",
        "\n",
        "print(pred_price)\n"
      ],
      "execution_count": null,
      "outputs": [
        {
          "output_type": "stream",
          "text": [
            "[[65.78512]]\n"
          ],
          "name": "stdout"
        }
      ]
    },
    {
      "cell_type": "code",
      "metadata": {
        "id": "NxY-f53AgYyJ",
        "outputId": "42f0c530-bb2f-4be0-bdbe-666f05cd8905",
        "colab": {
          "base_uri": "https://localhost:8080/",
          "height": 68
        }
      },
      "source": [
        "#Forcasting the next day's price\n",
        "tesla_quote2 = web.DataReader('TSLA', data_source='yahoo', start='2019-01-02', end='2019-01-02')\n",
        "print(tesla_quote2['Close'])"
      ],
      "execution_count": null,
      "outputs": [
        {
          "output_type": "stream",
          "text": [
            "Date\n",
            "2019-01-02    62.023998\n",
            "Name: Close, dtype: float64\n"
          ],
          "name": "stdout"
        }
      ]
    },
    {
      "cell_type": "code",
      "metadata": {
        "id": "yR9p6w5aVKS-",
        "outputId": "b121eef7-1294-4e4c-beba-6b3335c4358f",
        "colab": {
          "base_uri": "https://localhost:8080/",
          "height": 558
        }
      },
      "source": [
        "#Show the closing price history\n",
        "plt.figure(figsize=(16,8))\n",
        "plt.title('Close Price History')\n",
        "plt.plot(df['Close'])\n",
        "plt.xlabel('Data', fontsize=18)\n",
        "plt.ylabel('Close Price USD($)', fontsize=18)\n",
        "plt.show()"
      ],
      "execution_count": null,
      "outputs": [
        {
          "output_type": "display_data",
          "data": {
            "image/png": "[encoded data removed]",
            "text/plain": [
              "<Figure size 1152x576 with 1 Axes>"
            ]
          },
          "metadata": {
            "tags": []
          }
        }
      ]
    }
  ]
}